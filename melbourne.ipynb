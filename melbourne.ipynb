{
 "cells": [
  {
   "cell_type": "code",
   "execution_count": null,
   "id": "ab8dab69-b348-467e-ae0a-961f35b7b6b3",
   "metadata": {},
   "outputs": [],
   "source": [
    "import pandas as pd\n",
    "import re"
   ]
  },
  {
   "cell_type": "code",
   "execution_count": null,
   "id": "16e1e922-b68d-44ed-ba4b-cab4bb89f1dc",
   "metadata": {},
   "outputs": [],
   "source": [
    "df = pd.read_csv('house.csv')"
   ]
  },
  {
   "cell_type": "code",
   "execution_count": null,
   "id": "18aa7150-af07-49c1-8064-b0eb30dca5db",
   "metadata": {},
   "outputs": [],
   "source": [
    "df.head(5)"
   ]
  },
  {
   "cell_type": "code",
   "execution_count": null,
   "id": "bf116a03-d25d-4832-a184-2d35426411be",
   "metadata": {},
   "outputs": [],
   "source": [
    "filter1 = df.loc[(df['Rooms'] == 3) & (df['Type'] == 'u') & (df['Price'] <= 500000)]"
   ]
  },
  {
   "cell_type": "code",
   "execution_count": null,
   "id": "5294f522-165c-438b-84c1-afadcb117e96",
   "metadata": {},
   "outputs": [],
   "source": [
    "filter1"
   ]
  },
  {
   "cell_type": "code",
   "execution_count": null,
   "id": "e1ae2104-b6e1-4306-9bbe-f0025a5251c8",
   "metadata": {},
   "outputs": [],
   "source": [
    "filter2 = df.loc[df['Address'].str.contains('Turner st|Turner Rd', flags = re.I)] \n",
    "#regex para letras maiusculas e minusculas"
   ]
  },
  {
   "cell_type": "code",
   "execution_count": null,
   "id": "0ad283da-4797-45bf-b362-44ab398fcc25",
   "metadata": {},
   "outputs": [],
   "source": [
    "filter2"
   ]
  },
  {
   "cell_type": "code",
   "execution_count": null,
   "id": "6d9981c7-c563-49ca-88a2-d7102a1be302",
   "metadata": {},
   "outputs": [],
   "source": [
    "filter3 = df.loc[df['Address'].str.contains('^59 ', flags = re.I) | (df['Price'] <= 500000)]\n",
    "# o ^ é para iniciar com a quantia escrita depois"
   ]
  },
  {
   "cell_type": "code",
   "execution_count": null,
   "id": "da2346ac-fae9-4ba7-aeed-cac27e930710",
   "metadata": {},
   "outputs": [],
   "source": [
    "filter3"
   ]
  },
  {
   "cell_type": "code",
   "execution_count": null,
   "id": "cf405d6b-96a2-477c-bef1-cba13d6466fa",
   "metadata": {},
   "outputs": [],
   "source": [
    "df.loc[df['SellerG'] == 'Nelson', 'SellerG'] = 'Ronald'\n",
    "#mudar nome de determinado atributo"
   ]
  },
  {
   "cell_type": "code",
   "execution_count": null,
   "id": "58451f94-cd16-4464-8923-b8b9614ab98a",
   "metadata": {},
   "outputs": [],
   "source": [
    "df.loc[df['SellerG'] == 'Ronald', ['Method']] = 'Pending'\n",
    "#mudar tudo de um determinado atributo, ou seja, coluna"
   ]
  },
  {
   "cell_type": "code",
   "execution_count": null,
   "id": "10e3925e-590c-40ac-9b3d-d7b72d1f0407",
   "metadata": {},
   "outputs": [],
   "source": [
    "df.groupby(['SellerG']).mean()\n",
    "#pegar todos os vendedores e fazer uma média de todos os seus atributos"
   ]
  },
  {
   "cell_type": "code",
   "execution_count": null,
   "id": "e736a310-479a-41b2-841d-6f7db38cfd03",
   "metadata": {},
   "outputs": [],
   "source": [
    "df.groupby(['SellerG']).sum().sort_values('Price', ascending = False).head(5)\n",
    "#analisar vendedores que venderam mais"
   ]
  }
 ],
 "metadata": {
  "kernelspec": {
   "display_name": "Python 3 (ipykernel)",
   "language": "python",
   "name": "python3"
  },
  "language_info": {
   "codemirror_mode": {
    "name": "ipython",
    "version": 3
   },
   "file_extension": ".py",
   "mimetype": "text/x-python",
   "name": "python",
   "nbconvert_exporter": "python",
   "pygments_lexer": "ipython3",
   "version": "3.9.13"
  }
 },
 "nbformat": 4,
 "nbformat_minor": 5
}
