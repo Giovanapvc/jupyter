{
 "cells": [
  {
   "cell_type": "code",
   "execution_count": 1,
   "id": "b8390901",
   "metadata": {},
   "outputs": [],
   "source": [
    "import pandas as pd\n",
    "import numpy as np\n",
    "import random\n",
    "from random import shuffle"
   ]
  },
  {
   "cell_type": "code",
   "execution_count": 2,
   "id": "018c8f8e",
   "metadata": {},
   "outputs": [],
   "source": [
    "#ideia: filtrar jogadores do dataframe com overall >= 76, essa será a nova tabela.\n",
    "#fazer um pequeno menu, com 11 posições, separando esses jogadores entre essas posições.\n",
    "#"
   ]
  },
  {
   "cell_type": "code",
   "execution_count": 3,
   "id": "c6db5191",
   "metadata": {},
   "outputs": [],
   "source": [
    "df = pd.read_csv(\"Fifa 23 Players Data.csv\")"
   ]
  },
  {
   "cell_type": "code",
   "execution_count": 4,
   "id": "4ea8f596",
   "metadata": {},
   "outputs": [],
   "source": [
    "corte = df.head(1405)\n"
   ]
  },
  {
   "cell_type": "code",
   "execution_count": 8,
   "id": "b417a98a",
   "metadata": {},
   "outputs": [],
   "source": [
    "corte = corte[['Known As', 'Best Position', 'Overall']] \n",
    "corte['Best Position']. head()\n",
    "goleiros = corte.loc[(corte[\"Best Position\"]==\"GK\")]"
   ]
  },
  {
   "cell_type": "code",
   "execution_count": 9,
   "id": "7fb6004d",
   "metadata": {},
   "outputs": [],
   "source": [
    "corte = corte.dropna(axis = 1, how = 'all')\n"
   ]
  },
  {
   "cell_type": "code",
   "execution_count": 10,
   "id": "a562aa54",
   "metadata": {},
   "outputs": [],
   "source": [
    "nome = goleiros['Known As']"
   ]
  },
  {
   "cell_type": "code",
   "execution_count": 11,
   "id": "d4e30a5a",
   "metadata": {},
   "outputs": [],
   "source": [
    "sorteio = goleiros.iloc[np.random.choice(np.arange(len(goleiros)), 5, False)]"
   ]
  },
  {
   "cell_type": "code",
   "execution_count": 12,
   "id": "a836ec5a",
   "metadata": {},
   "outputs": [],
   "source": [
    "opcao1 = sorteio.head(1)\n",
    "opcao2 = sorteio.head(2)\n",
    "opcao3 = sorteio.head(3)\n",
    "opcao4 = sorteio.head(4)\n",
    "opcao5 = sorteio.head(5)\n",
    "#usar loc "
   ]
  },
  {
   "cell_type": "code",
   "execution_count": 13,
   "id": "4ff7206a",
   "metadata": {},
   "outputs": [
    {
     "data": {
      "text/html": [
       "<div>\n",
       "<style scoped>\n",
       "    .dataframe tbody tr th:only-of-type {\n",
       "        vertical-align: middle;\n",
       "    }\n",
       "\n",
       "    .dataframe tbody tr th {\n",
       "        vertical-align: top;\n",
       "    }\n",
       "\n",
       "    .dataframe thead th {\n",
       "        text-align: right;\n",
       "    }\n",
       "</style>\n",
       "<table border=\"1\" class=\"dataframe\">\n",
       "  <thead>\n",
       "    <tr style=\"text-align: right;\">\n",
       "      <th></th>\n",
       "      <th>Known As</th>\n",
       "      <th>Best Position</th>\n",
       "      <th>Overall</th>\n",
       "    </tr>\n",
       "  </thead>\n",
       "  <tbody>\n",
       "    <tr>\n",
       "      <th>245</th>\n",
       "      <td>J. Pickford</td>\n",
       "      <td>GK</td>\n",
       "      <td>82</td>\n",
       "    </tr>\n",
       "    <tr>\n",
       "      <th>789</th>\n",
       "      <td>M. Ryan</td>\n",
       "      <td>GK</td>\n",
       "      <td>78</td>\n",
       "    </tr>\n",
       "    <tr>\n",
       "      <th>444</th>\n",
       "      <td>B. Leno</td>\n",
       "      <td>GK</td>\n",
       "      <td>80</td>\n",
       "    </tr>\n",
       "    <tr>\n",
       "      <th>438</th>\n",
       "      <td>T. Vaclík</td>\n",
       "      <td>GK</td>\n",
       "      <td>80</td>\n",
       "    </tr>\n",
       "    <tr>\n",
       "      <th>897</th>\n",
       "      <td>M. Turner</td>\n",
       "      <td>GK</td>\n",
       "      <td>77</td>\n",
       "    </tr>\n",
       "  </tbody>\n",
       "</table>\n",
       "</div>"
      ],
      "text/plain": [
       "        Known As Best Position  Overall\n",
       "245  J. Pickford            GK       82\n",
       "789      M. Ryan            GK       78\n",
       "444      B. Leno            GK       80\n",
       "438    T. Vaclík            GK       80\n",
       "897    M. Turner            GK       77"
      ]
     },
     "execution_count": 13,
     "metadata": {},
     "output_type": "execute_result"
    }
   ],
   "source": [
    "opcao5"
   ]
  },
  {
   "cell_type": "code",
   "execution_count": null,
   "id": "6103cab0",
   "metadata": {},
   "outputs": [],
   "source": []
  }
 ],
 "metadata": {
  "kernelspec": {
   "display_name": "Python 3 (ipykernel)",
   "language": "python",
   "name": "python3"
  },
  "language_info": {
   "codemirror_mode": {
    "name": "ipython",
    "version": 3
   },
   "file_extension": ".py",
   "mimetype": "text/x-python",
   "name": "python",
   "nbconvert_exporter": "python",
   "pygments_lexer": "ipython3",
   "version": "3.9.16"
  }
 },
 "nbformat": 4,
 "nbformat_minor": 5
}
