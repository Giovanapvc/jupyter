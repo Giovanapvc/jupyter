{
 "cells": [
  {
   "cell_type": "code",
   "execution_count": 56,
   "id": "b8390901",
   "metadata": {},
   "outputs": [],
   "source": [
    "import pandas as pd\n",
    "import numpy as np\n",
    "import random\n",
    "from random import shuffle"
   ]
  },
  {
   "cell_type": "code",
   "execution_count": 57,
   "id": "57e0a42a",
   "metadata": {},
   "outputs": [],
   "source": [
    "#ideia: filtrar jogadores do dataframe com overall >= 76, essa será a nova tabela.\n",
    "#fazer um pequeno menu, com 11 posições, separando esses jogadores entre essas posições.\n",
    "#"
   ]
  },
  {
   "cell_type": "code",
   "execution_count": 58,
   "id": "c6db5191",
   "metadata": {},
   "outputs": [],
   "source": [
    "df = pd.read_csv(\"Fifa 23 Players Data.csv\", index_col = False)"
   ]
  },
  {
   "cell_type": "code",
   "execution_count": 59,
   "id": "250a7f64",
   "metadata": {},
   "outputs": [],
   "source": [
    "df.reset_index(drop=True, inplace=True)"
   ]
  },
  {
   "cell_type": "code",
   "execution_count": 60,
   "id": "4ea8f596",
   "metadata": {},
   "outputs": [],
   "source": [
    "corte = df.head(1405)"
   ]
  },
  {
   "cell_type": "code",
   "execution_count": 61,
   "id": "b417a98a",
   "metadata": {},
   "outputs": [],
   "source": [
    "corte = corte[['Known As', 'Best Position', 'Overall']] "
   ]
  },
  {
   "cell_type": "code",
   "execution_count": 62,
   "id": "c7066287",
   "metadata": {},
   "outputs": [
    {
     "data": {
      "text/html": [
       "<div>\n",
       "<style scoped>\n",
       "    .dataframe tbody tr th:only-of-type {\n",
       "        vertical-align: middle;\n",
       "    }\n",
       "\n",
       "    .dataframe tbody tr th {\n",
       "        vertical-align: top;\n",
       "    }\n",
       "\n",
       "    .dataframe thead th {\n",
       "        text-align: right;\n",
       "    }\n",
       "</style>\n",
       "<table border=\"1\" class=\"dataframe\">\n",
       "  <thead>\n",
       "    <tr style=\"text-align: right;\">\n",
       "      <th></th>\n",
       "      <th>Known As</th>\n",
       "      <th>Best Position</th>\n",
       "      <th>Overall</th>\n",
       "    </tr>\n",
       "  </thead>\n",
       "  <tbody>\n",
       "    <tr>\n",
       "      <th>0</th>\n",
       "      <td>L. Messi</td>\n",
       "      <td>CAM</td>\n",
       "      <td>91</td>\n",
       "    </tr>\n",
       "    <tr>\n",
       "      <th>1</th>\n",
       "      <td>K. Benzema</td>\n",
       "      <td>CF</td>\n",
       "      <td>91</td>\n",
       "    </tr>\n",
       "    <tr>\n",
       "      <th>2</th>\n",
       "      <td>R. Lewandowski</td>\n",
       "      <td>ST</td>\n",
       "      <td>91</td>\n",
       "    </tr>\n",
       "    <tr>\n",
       "      <th>3</th>\n",
       "      <td>K. De Bruyne</td>\n",
       "      <td>CM</td>\n",
       "      <td>91</td>\n",
       "    </tr>\n",
       "    <tr>\n",
       "      <th>4</th>\n",
       "      <td>K. Mbappé</td>\n",
       "      <td>ST</td>\n",
       "      <td>91</td>\n",
       "    </tr>\n",
       "    <tr>\n",
       "      <th>...</th>\n",
       "      <td>...</td>\n",
       "      <td>...</td>\n",
       "      <td>...</td>\n",
       "    </tr>\n",
       "    <tr>\n",
       "      <th>1400</th>\n",
       "      <td>Y. Gómez Andrade</td>\n",
       "      <td>CB</td>\n",
       "      <td>76</td>\n",
       "    </tr>\n",
       "    <tr>\n",
       "      <th>1401</th>\n",
       "      <td>H. Moreno</td>\n",
       "      <td>CB</td>\n",
       "      <td>76</td>\n",
       "    </tr>\n",
       "    <tr>\n",
       "      <th>1402</th>\n",
       "      <td>Juan Mata</td>\n",
       "      <td>CAM</td>\n",
       "      <td>76</td>\n",
       "    </tr>\n",
       "    <tr>\n",
       "      <th>1403</th>\n",
       "      <td>S. Okaka</td>\n",
       "      <td>ST</td>\n",
       "      <td>76</td>\n",
       "    </tr>\n",
       "    <tr>\n",
       "      <th>1404</th>\n",
       "      <td>Miguel Veloso</td>\n",
       "      <td>CM</td>\n",
       "      <td>76</td>\n",
       "    </tr>\n",
       "  </tbody>\n",
       "</table>\n",
       "<p>1405 rows × 3 columns</p>\n",
       "</div>"
      ],
      "text/plain": [
       "              Known As Best Position  Overall\n",
       "0             L. Messi           CAM       91\n",
       "1           K. Benzema            CF       91\n",
       "2       R. Lewandowski            ST       91\n",
       "3         K. De Bruyne            CM       91\n",
       "4            K. Mbappé            ST       91\n",
       "...                ...           ...      ...\n",
       "1400  Y. Gómez Andrade            CB       76\n",
       "1401         H. Moreno            CB       76\n",
       "1402         Juan Mata           CAM       76\n",
       "1403          S. Okaka            ST       76\n",
       "1404     Miguel Veloso            CM       76\n",
       "\n",
       "[1405 rows x 3 columns]"
      ]
     },
     "execution_count": 62,
     "metadata": {},
     "output_type": "execute_result"
    }
   ],
   "source": [
    "corte"
   ]
  },
  {
   "cell_type": "code",
   "execution_count": 63,
   "id": "1089f36d",
   "metadata": {},
   "outputs": [],
   "source": [
    "nome = corte[['Known As']]"
   ]
  },
  {
   "cell_type": "code",
   "execution_count": 64,
   "id": "a1c993a0",
   "metadata": {},
   "outputs": [
    {
     "data": {
      "text/html": [
       "<div>\n",
       "<style scoped>\n",
       "    .dataframe tbody tr th:only-of-type {\n",
       "        vertical-align: middle;\n",
       "    }\n",
       "\n",
       "    .dataframe tbody tr th {\n",
       "        vertical-align: top;\n",
       "    }\n",
       "\n",
       "    .dataframe thead th {\n",
       "        text-align: right;\n",
       "    }\n",
       "</style>\n",
       "<table border=\"1\" class=\"dataframe\">\n",
       "  <thead>\n",
       "    <tr style=\"text-align: right;\">\n",
       "      <th></th>\n",
       "      <th>Known As</th>\n",
       "    </tr>\n",
       "  </thead>\n",
       "  <tbody>\n",
       "    <tr>\n",
       "      <th>0</th>\n",
       "      <td>L. Messi</td>\n",
       "    </tr>\n",
       "    <tr>\n",
       "      <th>1</th>\n",
       "      <td>K. Benzema</td>\n",
       "    </tr>\n",
       "    <tr>\n",
       "      <th>2</th>\n",
       "      <td>R. Lewandowski</td>\n",
       "    </tr>\n",
       "    <tr>\n",
       "      <th>3</th>\n",
       "      <td>K. De Bruyne</td>\n",
       "    </tr>\n",
       "    <tr>\n",
       "      <th>4</th>\n",
       "      <td>K. Mbappé</td>\n",
       "    </tr>\n",
       "    <tr>\n",
       "      <th>...</th>\n",
       "      <td>...</td>\n",
       "    </tr>\n",
       "    <tr>\n",
       "      <th>1400</th>\n",
       "      <td>Y. Gómez Andrade</td>\n",
       "    </tr>\n",
       "    <tr>\n",
       "      <th>1401</th>\n",
       "      <td>H. Moreno</td>\n",
       "    </tr>\n",
       "    <tr>\n",
       "      <th>1402</th>\n",
       "      <td>Juan Mata</td>\n",
       "    </tr>\n",
       "    <tr>\n",
       "      <th>1403</th>\n",
       "      <td>S. Okaka</td>\n",
       "    </tr>\n",
       "    <tr>\n",
       "      <th>1404</th>\n",
       "      <td>Miguel Veloso</td>\n",
       "    </tr>\n",
       "  </tbody>\n",
       "</table>\n",
       "<p>1405 rows × 1 columns</p>\n",
       "</div>"
      ],
      "text/plain": [
       "              Known As\n",
       "0             L. Messi\n",
       "1           K. Benzema\n",
       "2       R. Lewandowski\n",
       "3         K. De Bruyne\n",
       "4            K. Mbappé\n",
       "...                ...\n",
       "1400  Y. Gómez Andrade\n",
       "1401         H. Moreno\n",
       "1402         Juan Mata\n",
       "1403          S. Okaka\n",
       "1404     Miguel Veloso\n",
       "\n",
       "[1405 rows x 1 columns]"
      ]
     },
     "execution_count": 64,
     "metadata": {},
     "output_type": "execute_result"
    }
   ],
   "source": [
    "nome"
   ]
  },
  {
   "cell_type": "code",
   "execution_count": 66,
   "id": "f97b1776",
   "metadata": {},
   "outputs": [],
   "source": [
    "sorteio = random.randrange (len ( nome ))"
   ]
  },
  {
   "cell_type": "code",
   "execution_count": null,
   "id": "a3f449de",
   "metadata": {},
   "outputs": [],
   "source": []
  }
 ],
 "metadata": {
  "kernelspec": {
   "display_name": "Python 3 (ipykernel)",
   "language": "python",
   "name": "python3"
  },
  "language_info": {
   "codemirror_mode": {
    "name": "ipython",
    "version": 3
   },
   "file_extension": ".py",
   "mimetype": "text/x-python",
   "name": "python",
   "nbconvert_exporter": "python",
   "pygments_lexer": "ipython3",
   "version": "3.9.16"
  }
 },
 "nbformat": 4,
 "nbformat_minor": 5
}
