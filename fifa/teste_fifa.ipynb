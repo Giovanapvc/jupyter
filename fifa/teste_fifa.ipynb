{
 "cells": [
  {
   "cell_type": "code",
   "execution_count": null,
   "id": "13cc6379-8b49-4dd6-88d2-7055e5ab6f5e",
   "metadata": {},
   "outputs": [],
   "source": [
    "import pandas as pd"
   ]
  },
  {
   "cell_type": "code",
   "execution_count": null,
   "id": "01420a1d-b49c-400b-b812-1b7d94eed9d8",
   "metadata": {},
   "outputs": [],
   "source": [
    "dados = pd.read_csv('data.csv')"
   ]
  },
  {
   "cell_type": "code",
   "execution_count": null,
   "id": "011424da-e554-4e05-9d66-634c2f4d6bd1",
   "metadata": {},
   "outputs": [],
   "source": [
    "dados"
   ]
  },
  {
   "cell_type": "code",
   "execution_count": null,
   "id": "148b7fd4-9469-494e-9b91-9d24da8a9056",
   "metadata": {},
   "outputs": [],
   "source": [
    "dados.tail()"
   ]
  },
  {
   "cell_type": "code",
   "execution_count": null,
   "id": "51c54586-b2b8-43d8-b1e9-1568e234e5fa",
   "metadata": {},
   "outputs": [],
   "source": [
    "dados.index #numero de linhas"
   ]
  },
  {
   "cell_type": "code",
   "execution_count": null,
   "id": "1494d13a-eb9e-4ed6-b040-343ba3c9addd",
   "metadata": {},
   "outputs": [],
   "source": [
    "dados.columns     #atributos das colunas"
   ]
  },
  {
   "cell_type": "code",
   "execution_count": null,
   "id": "ddeff6fd-538c-43a5-93b6-46ddba2b2655",
   "metadata": {},
   "outputs": [],
   "source": [
    "dados['short_name']   #pesquisar atributos por coluna"
   ]
  },
  {
   "cell_type": "code",
   "execution_count": null,
   "id": "b9f1e5cc-06da-45de-9070-f2d6fb439cfb",
   "metadata": {},
   "outputs": [],
   "source": [
    "dados.iloc[0:10]   #dados de uma linha especifica"
   ]
  },
  {
   "cell_type": "code",
   "execution_count": null,
   "id": "046fc975-2b53-46ad-9d6b-7d2cbeda3a42",
   "metadata": {},
   "outputs": [],
   "source": [
    "dados.iloc[2,2]     #pesquisar um atributo especifico de uma linha especifica"
   ]
  },
  {
   "cell_type": "code",
   "execution_count": null,
   "id": "ca3b73e4-7d4b-4701-9156-a641162c479e",
   "metadata": {},
   "outputs": [],
   "source": [
    "dados.loc[dados['nationality'] == \"Brazil\"]   #localização de atributo especifico de dados\n"
   ]
  },
  {
   "cell_type": "code",
   "execution_count": null,
   "id": "e5691c1c-4c9b-424b-9a8f-81a53e592ffa",
   "metadata": {},
   "outputs": [],
   "source": [
    "sc = dados.sort_values('age', ascending = True)    #listatgem em ordem alfanumerica\n",
    "                                                    #para trocar a ordem, ascending = false"
   ]
  },
  {
   "cell_type": "code",
   "execution_count": null,
   "id": "ccd4c0a4-5b43-4467-b206-d9795e022ef2",
   "metadata": {},
   "outputs": [],
   "source": [
    "sc. iloc[0:10, 3:5]  #em ordem de mais novo, os nomes completos e idades"
   ]
  },
  {
   "cell_type": "code",
   "execution_count": null,
   "id": "71106914-7e53-463c-be8b-7d4ab766b023",
   "metadata": {},
   "outputs": [],
   "source": [
    "dados['total'] = (dados['passing'] + dados['dribbling'] + dados['defending'])/3  #adicionando coluna"
   ]
  },
  {
   "cell_type": "code",
   "execution_count": null,
   "id": "d9511130-0393-4470-8267-516d16c69f1f",
   "metadata": {},
   "outputs": [],
   "source": [
    "dados = dados[['short_name', 'total']]   #aparecer atributos especificos\n",
    "dados"
   ]
  },
  {
   "cell_type": "code",
   "execution_count": null,
   "id": "ed62eb33-8b43-427b-a904-e352de58a79d",
   "metadata": {},
   "outputs": [],
   "source": [
    "asc = dados.sort_values('total', ascending = False)\n",
    "asc[0:10]"
   ]
  },
  {
   "cell_type": "code",
   "execution_count": 21,
   "id": "620c4be5-fa71-4e72-ad15-e3e2640904c1",
   "metadata": {},
   "outputs": [],
   "source": [
    "asc.to_csv('modif.csv', index = False)  #salvar em um csv"
   ]
  },
  {
   "cell_type": "code",
   "execution_count": null,
   "id": "7bf0dbd0-3184-4d0f-be3b-9e5828e0f553",
   "metadata": {},
   "outputs": [],
   "source": []
  }
 ],
 "metadata": {
  "kernelspec": {
   "display_name": "Python 3 (ipykernel)",
   "language": "python",
   "name": "python3"
  },
  "language_info": {
   "codemirror_mode": {
    "name": "ipython",
    "version": 3
   },
   "file_extension": ".py",
   "mimetype": "text/x-python",
   "name": "python",
   "nbconvert_exporter": "python",
   "pygments_lexer": "ipython3",
   "version": "3.9.13"
  }
 },
 "nbformat": 4,
 "nbformat_minor": 5
}
